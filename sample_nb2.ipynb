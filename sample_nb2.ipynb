{
  "nbformat": 4,
  "nbformat_minor": 0,
  "metadata": {
    "colab": {
      "provenance": []
    },
    "kernelspec": {
      "name": "python3",
      "display_name": "Python 3"
    },
    "language_info": {
      "name": "python"
    }
  },
  "cells": [
    {
      "cell_type": "code",
      "source": [
        "# operations: merge, groupby, pivot using Titanic dataset\n",
        "import pandas as pd\n",
        "\n",
        "titanic = pd.read_csv('https://raw.githubusercontent.com/datasciencedojo/datasets/master/titanic.csv')\n",
        "ports = pd.DataFrame({\n",
        "    'Embarked': ['S', 'C', 'Q'],\n",
        "    'Port_Name': ['Southampton', 'Cherbourg', 'Queenstown']\n",
        "})"
      ],
      "metadata": {
        "id": "eBBXDlN_ie6Q"
      },
      "execution_count": null,
      "outputs": []
    },
    {
      "cell_type": "code",
      "source": [
        "print(titanic.columns)\n",
        "print(ports.head())"
      ],
      "metadata": {
        "colab": {
          "base_uri": "https://localhost:8080/"
        },
        "id": "x9ktuqajm42U",
        "outputId": "f6f9ef74-6309-4a92-ea4f-8ed52fbbb7e5"
      },
      "execution_count": null,
      "outputs": [
        {
          "output_type": "stream",
          "name": "stdout",
          "text": [
            "Index(['PassengerId', 'Survived', 'Pclass', 'Name', 'Sex', 'Age', 'SibSp',\n",
            "       'Parch', 'Ticket', 'Fare', 'Cabin', 'Embarked'],\n",
            "      dtype='object')\n",
            "  Embarked    Port_Name\n",
            "0        S  Southampton\n",
            "1        C    Cherbourg\n",
            "2        Q   Queenstown\n"
          ]
        }
      ]
    },
    {
      "cell_type": "code",
      "source": [
        "# split and concat\n",
        "first_half = titanic.iloc[:100]\n",
        "second_half = titanic.iloc[100:200]\n",
        "combined = pd.concat([first_half, second_half], ignore_index=True)\n",
        "print(combined.shape)"
      ],
      "metadata": {
        "colab": {
          "base_uri": "https://localhost:8080/"
        },
        "id": "3RBlU1Yxiezk",
        "outputId": "9c0833d6-d814-4de3-c72c-00b1c9ae2b0e"
      },
      "execution_count": null,
      "outputs": [
        {
          "output_type": "stream",
          "name": "stdout",
          "text": [
            "(200, 12)\n"
          ]
        }
      ]
    },
    {
      "cell_type": "code",
      "source": [
        "# dropna\n",
        "dropped = combined.dropna(subset=['Age'])\n",
        "print(dropped[['Name', 'Age']].head())"
      ],
      "metadata": {
        "colab": {
          "base_uri": "https://localhost:8080/"
        },
        "id": "dt_8ao2OkfD9",
        "outputId": "1512dbde-29b8-4603-dd94-ad7d2c38402c"
      },
      "execution_count": null,
      "outputs": [
        {
          "output_type": "stream",
          "name": "stdout",
          "text": [
            "                                                Name   Age\n",
            "0                            Braund, Mr. Owen Harris  22.0\n",
            "1  Cumings, Mrs. John Bradley (Florence Briggs Th...  38.0\n",
            "2                             Heikkinen, Miss. Laina  26.0\n",
            "3       Futrelle, Mrs. Jacques Heath (Lily May Peel)  35.0\n",
            "4                           Allen, Mr. William Henry  35.0\n"
          ]
        }
      ]
    },
    {
      "cell_type": "code",
      "source": [
        "# groupby\n",
        "grouped = dropped.groupby('Pclass')['Fare'].mean()\n",
        "print(grouped)"
      ],
      "metadata": {
        "colab": {
          "base_uri": "https://localhost:8080/"
        },
        "id": "v3FEZkOfke-p",
        "outputId": "37cf324f-c291-43e1-feae-d53388b54b44"
      },
      "execution_count": null,
      "outputs": [
        {
          "output_type": "stream",
          "name": "stdout",
          "text": [
            "Pclass\n",
            "1    74.818682\n",
            "2    23.042822\n",
            "3    15.134723\n",
            "Name: Fare, dtype: float64\n"
          ]
        }
      ]
    },
    {
      "cell_type": "code",
      "source": [],
      "metadata": {
        "id": "ixuVU-arwp9J"
      },
      "execution_count": null,
      "outputs": []
    }
  ]
}